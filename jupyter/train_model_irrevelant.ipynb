{
 "cells": [
  {
   "cell_type": "code",
   "execution_count": 1,
   "metadata": {
    "collapsed": true
   },
   "outputs": [
    {
     "name": "stdout",
     "output_type": "stream",
     "text": [
      "Downloading emoji data ...\n",
      "... OK (Got response in 0.41 seconds)\n",
      "Writing emoji data to /root/.demoji/codes.json ...\n",
      "... OK\n"
     ]
    }
   ],
   "source": [
    "%load_ext autoreload\n",
    "%autoreload 2\n",
    "\n",
    "import my_lib"
   ]
  },
  {
   "cell_type": "code",
   "execution_count": 2,
   "outputs": [
    {
     "data": {
      "text/plain": "                                               tweet label enterprise  \\\n0              20 min line @apple store @short pump.     1          0   \n1  Nueva tecnología convierte cualquier superfici...     3          1   \n2  Some people should not post replies in #Google...     1          2   \n3  I know a few others having same issue RT @Joel...     2          0   \n4  #Microsoft - We put the \"\"backwards\"\" into bac...     2          1   \n\n   is_irrelevant                                         token_list  \\\n0              0              20 min line @apple store @short pump.   \n1              1  Nueva tecnología convierte cualquier superfici...   \n2              0  Some people should not post replies in #Google...   \n3              0  I know a few others having same issue RT @Joel...   \n4              0  #Microsoft - We put the \"\"backwards\"\" into bac...   \n\n                                       number_vector  \\\n0  [554, 51, 270, 279, 396, 436, 270, 200, 396, 4...   \n1  [719, 3, 186, 212, 245, 270, 640, 186, 0, 436,...   \n2  [573, 309, 279, 186, 270, 541, 186, 309, 541, ...   \n3  [697, 270, 68, 436, 309, 100, 270, 245, 270, 1...   \n4  [9, 289, 396, 0, 94, 309, 114, 309, 106, 640, ...   \n\n                                        input_vector  \n0  [0, 0, 0, 1, 0, 0, 0, 0, 0, 0, 0, 0, 0, 0, 0, ...  \n1  [8, 0, 0, 7, 0, 0, 0, 0, 0, 2, 0, 0, 0, 0, 0, ...  \n2  [2, 0, 0, 2, 0, 0, 0, 0, 0, 1, 0, 0, 0, 0, 0, ...  \n3  [2, 0, 0, 2, 1, 0, 0, 0, 0, 0, 0, 0, 0, 0, 0, ...  \n4  [5, 0, 0, 1, 0, 0, 0, 0, 0, 2, 0, 0, 0, 0, 0, ...  ",
      "text/html": "<div>\n<style scoped>\n    .dataframe tbody tr th:only-of-type {\n        vertical-align: middle;\n    }\n\n    .dataframe tbody tr th {\n        vertical-align: top;\n    }\n\n    .dataframe thead th {\n        text-align: right;\n    }\n</style>\n<table border=\"1\" class=\"dataframe\">\n  <thead>\n    <tr style=\"text-align: right;\">\n      <th></th>\n      <th>tweet</th>\n      <th>label</th>\n      <th>enterprise</th>\n      <th>is_irrelevant</th>\n      <th>token_list</th>\n      <th>number_vector</th>\n      <th>input_vector</th>\n    </tr>\n  </thead>\n  <tbody>\n    <tr>\n      <th>0</th>\n      <td>20 min line @apple store @short pump.</td>\n      <td>1</td>\n      <td>0</td>\n      <td>0</td>\n      <td>20 min line @apple store @short pump.</td>\n      <td>[554, 51, 270, 279, 396, 436, 270, 200, 396, 4...</td>\n      <td>[0, 0, 0, 1, 0, 0, 0, 0, 0, 0, 0, 0, 0, 0, 0, ...</td>\n    </tr>\n    <tr>\n      <th>1</th>\n      <td>Nueva tecnología convierte cualquier superfici...</td>\n      <td>3</td>\n      <td>1</td>\n      <td>1</td>\n      <td>Nueva tecnología convierte cualquier superfici...</td>\n      <td>[719, 3, 186, 212, 245, 270, 640, 186, 0, 436,...</td>\n      <td>[8, 0, 0, 7, 0, 0, 0, 0, 0, 2, 0, 0, 0, 0, 0, ...</td>\n    </tr>\n    <tr>\n      <th>2</th>\n      <td>Some people should not post replies in #Google...</td>\n      <td>1</td>\n      <td>2</td>\n      <td>0</td>\n      <td>Some people should not post replies in #Google...</td>\n      <td>[573, 309, 279, 186, 270, 541, 186, 309, 541, ...</td>\n      <td>[2, 0, 0, 2, 0, 0, 0, 0, 0, 1, 0, 0, 0, 0, 0, ...</td>\n    </tr>\n    <tr>\n      <th>3</th>\n      <td>I know a few others having same issue RT @Joel...</td>\n      <td>2</td>\n      <td>0</td>\n      <td>0</td>\n      <td>I know a few others having same issue RT @Joel...</td>\n      <td>[697, 270, 68, 436, 309, 100, 270, 245, 270, 1...</td>\n      <td>[2, 0, 0, 2, 1, 0, 0, 0, 0, 0, 0, 0, 0, 0, 0, ...</td>\n    </tr>\n    <tr>\n      <th>4</th>\n      <td>#Microsoft - We put the \"\"backwards\"\" into bac...</td>\n      <td>2</td>\n      <td>1</td>\n      <td>0</td>\n      <td>#Microsoft - We put the \"\"backwards\"\" into bac...</td>\n      <td>[9, 289, 396, 0, 94, 309, 114, 309, 106, 640, ...</td>\n      <td>[5, 0, 0, 1, 0, 0, 0, 0, 0, 2, 0, 0, 0, 0, 0, ...</td>\n    </tr>\n  </tbody>\n</table>\n</div>"
     },
     "execution_count": 2,
     "metadata": {},
     "output_type": "execute_result"
    }
   ],
   "source": [
    "pipeline = my_lib.Pipeline()\n",
    "raw_df = pipeline.load_data()\n",
    "raw_df = pipeline.encode_to_category(raw_df)\n",
    "raw_df = pipeline.tokenize(raw_df)\n",
    "raw_df.head()"
   ],
   "metadata": {
    "collapsed": false,
    "pycharm": {
     "name": "#%%\n"
    }
   }
  },
  {
   "cell_type": "code",
   "execution_count": 3,
   "outputs": [
    {
     "ename": "NameError",
     "evalue": "name 'pipeline' is not defined",
     "output_type": "error",
     "traceback": [
      "\u001B[0;31m---------------------------------------------------------------------------\u001B[0m",
      "\u001B[0;31mNameError\u001B[0m                                 Traceback (most recent call last)",
      "\u001B[0;32m<ipython-input-3-dfe3f58f3b55>\u001B[0m in \u001B[0;36m<module>\u001B[0;34m\u001B[0m\n\u001B[0;32m----> 1\u001B[0;31m \u001B[0mdf\u001B[0m \u001B[0;34m=\u001B[0m \u001B[0mpipeline\u001B[0m\u001B[0;34m.\u001B[0m\u001B[0mremove_useless_col\u001B[0m\u001B[0;34m(\u001B[0m\u001B[0mraw_df\u001B[0m\u001B[0;34m,\u001B[0m \u001B[0mkeep_col_list\u001B[0m\u001B[0;34m=\u001B[0m\u001B[0;34m[\u001B[0m\u001B[0;34m\"label\"\u001B[0m\u001B[0;34m,\u001B[0m \u001B[0;34m\"number_vector\"\u001B[0m\u001B[0;34m]\u001B[0m\u001B[0;34m)\u001B[0m\u001B[0;34m\u001B[0m\u001B[0;34m\u001B[0m\u001B[0m\n\u001B[0m\u001B[1;32m      2\u001B[0m \u001B[0mtrain_data\u001B[0m\u001B[0;34m,\u001B[0m \u001B[0mtest_data\u001B[0m \u001B[0;34m=\u001B[0m \u001B[0mpipeline\u001B[0m\u001B[0;34m.\u001B[0m\u001B[0msplit_data\u001B[0m\u001B[0;34m(\u001B[0m\u001B[0mdf\u001B[0m\u001B[0;34m)\u001B[0m\u001B[0;34m\u001B[0m\u001B[0;34m\u001B[0m\u001B[0m\n\u001B[1;32m      3\u001B[0m \u001B[0mprint\u001B[0m\u001B[0;34m(\u001B[0m\u001B[0;34mf\"SHAPE -> train : {train_data.shape}, test : {test_data.shape}\"\u001B[0m\u001B[0;34m)\u001B[0m\u001B[0;34m\u001B[0m\u001B[0;34m\u001B[0m\u001B[0m\n",
      "\u001B[0;31mNameError\u001B[0m: name 'pipeline' is not defined"
     ]
    }
   ],
   "source": [
    "df = pipeline.remove_useless_col(raw_df, keep_col_list=[\"label\", \"number_vector\"])\n",
    "train_data, test_data = pipeline.split_data(df)\n",
    "print(f\"SHAPE -> train : {train_data.shape}, test : {test_data.shape}\")"
   ],
   "metadata": {
    "collapsed": false,
    "pycharm": {
     "name": "#%%\n"
    }
   }
  },
  {
   "cell_type": "code",
   "execution_count": null,
   "outputs": [],
   "source": [
    "X_train = train_data[\"input_vector\"]\n",
    "y_train = train_data[\"\"]\n",
    "\n",
    "svm_model = my_lib.model.SVM()\n",
    "svm_model.fit( )"
   ],
   "metadata": {
    "collapsed": false,
    "pycharm": {
     "name": "#%%\n"
    }
   }
  },
  {
   "cell_type": "code",
   "execution_count": null,
   "outputs": [],
   "source": [],
   "metadata": {
    "collapsed": false,
    "pycharm": {
     "name": "#%%\n"
    }
   }
  },
  {
   "cell_type": "code",
   "source": [
    "raw_df.iloc[0,4]"
   ],
   "metadata": {
    "collapsed": false,
    "pycharm": {
     "name": "#%%\n"
    }
   },
   "execution_count": null,
   "outputs": []
  },
  {
   "cell_type": "code",
   "execution_count": 13,
   "outputs": [
    {
     "data": {
      "text/plain": "0"
     },
     "execution_count": 13,
     "metadata": {},
     "output_type": "execute_result"
    }
   ],
   "source": [],
   "metadata": {
    "collapsed": false,
    "pycharm": {
     "name": "#%%\n"
    }
   }
  },
  {
   "cell_type": "code",
   "execution_count": 15,
   "outputs": [
    {
     "data": {
      "text/plain": "[1720, 3198, 5363, 5471, 6606, 6640, 9375, 14441]"
     },
     "execution_count": 15,
     "metadata": {},
     "output_type": "execute_result"
    }
   ],
   "source": [
    "\n"
   ],
   "metadata": {
    "collapsed": false,
    "pycharm": {
     "name": "#%%\n"
    }
   }
  }
 ],
 "metadata": {
  "kernelspec": {
   "display_name": "Python 3",
   "language": "python",
   "name": "python3"
  },
  "language_info": {
   "codemirror_mode": {
    "name": "ipython",
    "version": 2
   },
   "file_extension": ".py",
   "mimetype": "text/x-python",
   "name": "python",
   "nbconvert_exporter": "python",
   "pygments_lexer": "ipython2",
   "version": "2.7.6"
  }
 },
 "nbformat": 4,
 "nbformat_minor": 0
}