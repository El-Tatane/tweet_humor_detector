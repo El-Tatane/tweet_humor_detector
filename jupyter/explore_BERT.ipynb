{
 "cells": [
  {
   "cell_type": "code",
   "execution_count": 33,
   "metadata": {
    "collapsed": true
   },
   "outputs": [
    {
     "name": "stdout",
     "output_type": "stream",
     "text": [
      "The autoreload extension is already loaded. To reload it, use:\n",
      "  %reload_ext autoreload\n"
     ]
    }
   ],
   "source": [
    "%load_ext autoreload\n",
    "%autoreload 2\n",
    "\n",
    "import pandas as pd\n",
    "import my_lib"
   ]
  },
  {
   "cell_type": "code",
   "execution_count": 34,
   "outputs": [
    {
     "data": {
      "text/plain": "                                               tweet label enterprise  \\\n0              20 min line @apple store @short pump.     1          0   \n1  Nueva tecnología convierte cualquier superfici...     3          1   \n2  Some people should not post replies in #Google...     1          2   \n3  I know a few others having same issue RT @Joel...     2          0   \n4  #Microsoft - We put the \"\"backwards\"\" into bac...     2          1   \n\n   is_irrelevant                                         token_list  \\\n0              0              20 min line @apple store @short pump.   \n1              1  nueva tecnología convierte cualquier superfici...   \n2              0  some people should not post replies in #google...   \n3              0  i know a few others having same issue rt @joel...   \n4              0  #microsoft - we put the \"\"backwards\"\" into bac...   \n\n                                         clean_tweet  \\\n0            20 min line @apple store @short pump .    \n1  nueva tecnología convierte cualquier superfici...   \n2  some people should not post replies in #google...   \n3  i know a few others having same issue rt @joel...   \n4  #microsoft - we put the  \"  \" backwards \"  \"  ...   \n\n                                       number_vector  \\\n0  [8, 240, 306, 439, 179, 462, 306, 23, 179, 462...   \n1  [462, 444, 324, 6, 307, 306, 601, 324, 533, 46...   \n2  [523, 373, 439, 324, 306, 629, 324, 373, 629, ...   \n3  [179, 306, 424, 462, 373, 85, 306, 307, 306, 1...   \n4  [294, 439, 179, 533, 354, 373, 523, 373, 162, ...   \n\n                                        input_vector  \n0  [0, 0, 0, 0, 0, 0, 0, 0, 1, 0, 0, 0, 0, 0, 0, ...  \n1  [0, 0, 0, 0, 0, 0, 3, 0, 0, 0, 0, 0, 0, 0, 0, ...  \n2  [0, 0, 0, 0, 0, 0, 0, 0, 0, 0, 0, 0, 0, 0, 0, ...  \n3  [0, 0, 0, 0, 0, 0, 1, 0, 0, 0, 0, 0, 0, 0, 0, ...  \n4  [0, 0, 0, 0, 0, 0, 0, 0, 0, 0, 0, 0, 0, 0, 0, ...  ",
      "text/html": "<div>\n<style scoped>\n    .dataframe tbody tr th:only-of-type {\n        vertical-align: middle;\n    }\n\n    .dataframe tbody tr th {\n        vertical-align: top;\n    }\n\n    .dataframe thead th {\n        text-align: right;\n    }\n</style>\n<table border=\"1\" class=\"dataframe\">\n  <thead>\n    <tr style=\"text-align: right;\">\n      <th></th>\n      <th>tweet</th>\n      <th>label</th>\n      <th>enterprise</th>\n      <th>is_irrelevant</th>\n      <th>token_list</th>\n      <th>clean_tweet</th>\n      <th>number_vector</th>\n      <th>input_vector</th>\n    </tr>\n  </thead>\n  <tbody>\n    <tr>\n      <th>0</th>\n      <td>20 min line @apple store @short pump.</td>\n      <td>1</td>\n      <td>0</td>\n      <td>0</td>\n      <td>20 min line @apple store @short pump.</td>\n      <td>20 min line @apple store @short pump .</td>\n      <td>[8, 240, 306, 439, 179, 462, 306, 23, 179, 462...</td>\n      <td>[0, 0, 0, 0, 0, 0, 0, 0, 1, 0, 0, 0, 0, 0, 0, ...</td>\n    </tr>\n    <tr>\n      <th>1</th>\n      <td>Nueva tecnología convierte cualquier superfici...</td>\n      <td>3</td>\n      <td>1</td>\n      <td>1</td>\n      <td>nueva tecnología convierte cualquier superfici...</td>\n      <td>nueva tecnología convierte cualquier superfici...</td>\n      <td>[462, 444, 324, 6, 307, 306, 601, 324, 533, 46...</td>\n      <td>[0, 0, 0, 0, 0, 0, 3, 0, 0, 0, 0, 0, 0, 0, 0, ...</td>\n    </tr>\n    <tr>\n      <th>2</th>\n      <td>Some people should not post replies in #Google...</td>\n      <td>1</td>\n      <td>2</td>\n      <td>0</td>\n      <td>some people should not post replies in #google...</td>\n      <td>some people should not post replies in #google...</td>\n      <td>[523, 373, 439, 324, 306, 629, 324, 373, 629, ...</td>\n      <td>[0, 0, 0, 0, 0, 0, 0, 0, 0, 0, 0, 0, 0, 0, 0, ...</td>\n    </tr>\n    <tr>\n      <th>3</th>\n      <td>I know a few others having same issue RT @Joel...</td>\n      <td>2</td>\n      <td>0</td>\n      <td>0</td>\n      <td>i know a few others having same issue rt @joel...</td>\n      <td>i know a few others having same issue rt @joel...</td>\n      <td>[179, 306, 424, 462, 373, 85, 306, 307, 306, 1...</td>\n      <td>[0, 0, 0, 0, 0, 0, 1, 0, 0, 0, 0, 0, 0, 0, 0, ...</td>\n    </tr>\n    <tr>\n      <th>4</th>\n      <td>#Microsoft - We put the \"\"backwards\"\" into bac...</td>\n      <td>2</td>\n      <td>1</td>\n      <td>0</td>\n      <td>#microsoft - we put the \"\"backwards\"\" into bac...</td>\n      <td>#microsoft - we put the  \"  \" backwards \"  \"  ...</td>\n      <td>[294, 439, 179, 533, 354, 373, 523, 373, 162, ...</td>\n      <td>[0, 0, 0, 0, 0, 0, 0, 0, 0, 0, 0, 0, 0, 0, 0, ...</td>\n    </tr>\n  </tbody>\n</table>\n</div>"
     },
     "execution_count": 34,
     "metadata": {},
     "output_type": "execute_result"
    }
   ],
   "source": [
    "pipeline = my_lib.Pipeline()\n",
    "raw_df = pipeline.load_data()\n",
    "raw_df = pipeline.encode_to_category(raw_df)\n",
    "raw_df = pipeline.tokenize(raw_df)\n",
    "raw_df.head()"
   ],
   "metadata": {
    "collapsed": false,
    "pycharm": {
     "name": "#%%\n"
    }
   }
  },
  {
   "cell_type": "markdown",
   "source": [],
   "metadata": {
    "collapsed": false,
    "pycharm": {
     "name": "#%% md\n"
    }
   }
  },
  {
   "cell_type": "code",
   "execution_count": 35,
   "outputs": [
    {
     "name": "stdout",
     "output_type": "stream",
     "text": [
      "SHAPE -> train : (730, 2), test : (183, 2)\n"
     ]
    },
    {
     "data": {
      "text/plain": "   label                                        clean_tweet\n3      2  i know a few others having same issue rt @joel...\n4      2  #microsoft - we put the  \"  \" backwards \"  \"  ...\n5      2  #twitter is sooo trash ritenow with all dezz #...\n11     2  i gave a try to windows 8 dev .  preview and i...\n14     0                              @apple .  . good ipad",
      "text/html": "<div>\n<style scoped>\n    .dataframe tbody tr th:only-of-type {\n        vertical-align: middle;\n    }\n\n    .dataframe tbody tr th {\n        vertical-align: top;\n    }\n\n    .dataframe thead th {\n        text-align: right;\n    }\n</style>\n<table border=\"1\" class=\"dataframe\">\n  <thead>\n    <tr style=\"text-align: right;\">\n      <th></th>\n      <th>label</th>\n      <th>clean_tweet</th>\n    </tr>\n  </thead>\n  <tbody>\n    <tr>\n      <th>3</th>\n      <td>2</td>\n      <td>i know a few others having same issue rt @joel...</td>\n    </tr>\n    <tr>\n      <th>4</th>\n      <td>2</td>\n      <td>#microsoft - we put the  \"  \" backwards \"  \"  ...</td>\n    </tr>\n    <tr>\n      <th>5</th>\n      <td>2</td>\n      <td>#twitter is sooo trash ritenow with all dezz #...</td>\n    </tr>\n    <tr>\n      <th>11</th>\n      <td>2</td>\n      <td>i gave a try to windows 8 dev .  preview and i...</td>\n    </tr>\n    <tr>\n      <th>14</th>\n      <td>0</td>\n      <td>@apple .  . good ipad</td>\n    </tr>\n  </tbody>\n</table>\n</div>"
     },
     "execution_count": 35,
     "metadata": {},
     "output_type": "execute_result"
    }
   ],
   "source": [
    "df = raw_df.loc[raw_df.label.isin([0,2])]\n",
    "df = my_lib.processing.remove_useless_col(df, keep_col_list=[\"label\", \"clean_tweet\"])\n",
    "df_train_data, df_test_data = my_lib.processing.split_data(df)\n",
    "print(f\"SHAPE -> train : {df_train_data.shape}, test : {df_test_data.shape}\")\n",
    "df.head()"
   ],
   "metadata": {
    "collapsed": false,
    "pycharm": {
     "name": "#%%\n"
    }
   }
  },
  {
   "cell_type": "code",
   "execution_count": 36,
   "outputs": [
    {
     "name": "stderr",
     "output_type": "stream",
     "text": [
      "Some weights of the model checkpoint at distilbert-base-uncased-finetuned-sst-2-english were not used when initializing TFDistilBertForSequenceClassification: ['dropout_19']\n",
      "- This IS expected if you are initializing TFDistilBertForSequenceClassification from the checkpoint of a model trained on another task or with another architecture (e.g. initializing a BertForSequenceClassification model from a BertForPretraining model).\n",
      "- This IS NOT expected if you are initializing TFDistilBertForSequenceClassification from the checkpoint of a model that you expect to be exactly identical (initializing a BertForSequenceClassification model from a BertForSequenceClassification model).\n",
      "Some weights of TFDistilBertForSequenceClassification were not initialized from the model checkpoint at distilbert-base-uncased-finetuned-sst-2-english and are newly initialized: ['dropout_199']\n",
      "You should probably TRAIN this model on a down-stream task to be able to use it for predictions and inference.\n"
     ]
    },
    {
     "name": "stdout",
     "output_type": "stream",
     "text": [
      "0100200300400500600700"
     ]
    },
    {
     "data": {
      "text/plain": "0.7534246575342466"
     },
     "execution_count": 36,
     "metadata": {},
     "output_type": "execute_result"
    }
   ],
   "source": [
    "bert = my_lib.model.BERT()\n",
    "bert.score(df_train_data[\"clean_tweet\"].values, df_train_data[\"label\"].values)\n"
   ],
   "metadata": {
    "collapsed": false,
    "pycharm": {
     "name": "#%%\n"
    }
   }
  },
  {
   "cell_type": "code",
   "execution_count": 36,
   "outputs": [],
   "source": [],
   "metadata": {
    "collapsed": false,
    "pycharm": {
     "name": "#%%\n"
    }
   }
  },
  {
   "cell_type": "code",
   "execution_count": null,
   "outputs": [],
   "source": [],
   "metadata": {
    "collapsed": false,
    "pycharm": {
     "name": "#%%\n"
    }
   }
  }
 ],
 "metadata": {
  "kernelspec": {
   "display_name": "Python 3",
   "language": "python",
   "name": "python3"
  },
  "language_info": {
   "codemirror_mode": {
    "name": "ipython",
    "version": 2
   },
   "file_extension": ".py",
   "mimetype": "text/x-python",
   "name": "python",
   "nbconvert_exporter": "python",
   "pygments_lexer": "ipython2",
   "version": "2.7.6"
  }
 },
 "nbformat": 4,
 "nbformat_minor": 0
}