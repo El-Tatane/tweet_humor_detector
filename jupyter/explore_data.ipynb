{
 "cells": [
  {
   "cell_type": "code",
   "execution_count": 1,
   "metadata": {
    "collapsed": true
   },
   "outputs": [],
   "source": [
    "import pandas as pd\n"
   ]
  },
  {
   "cell_type": "code",
   "execution_count": 3,
   "outputs": [
    {
     "data": {
      "text/plain": "               annot                                              tweet\n0     (0000,neu,apl)              20 min line @apple store @short pump.\n1     (0001,irr,msf)  Nueva tecnología convierte cualquier superfici...\n2     (0002,neu,ggl)  Some people should not post replies in #Google...\n3     (0003,neg,apl)  I know a few others having same issue RT @Joel...\n4     (0004,neg,msf)  #Microsoft - We put the \"\"backwards\"\" into bac...\n...              ...                                                ...\n4168  (4168,neg,apl)  fuck this see you hoes @ work @WeakTwip @Munnn...\n4169  (4169,neg,msf)  #Microsoft, #Adobe lose $13.5bn to piracy: Rep...\n4170  (4170,neu,twt)  I tried to explain why you would do \"\"The #Twi...\n4171  (4171,neg,apl)  Installed io5 - fine on ipad but wiped wife's ...\n4172  (4172,neg,msf)  #microsoft #careers site is giving errors for ...\n\n[4173 rows x 2 columns]",
      "text/html": "<div>\n<style scoped>\n    .dataframe tbody tr th:only-of-type {\n        vertical-align: middle;\n    }\n\n    .dataframe tbody tr th {\n        vertical-align: top;\n    }\n\n    .dataframe thead th {\n        text-align: right;\n    }\n</style>\n<table border=\"1\" class=\"dataframe\">\n  <thead>\n    <tr style=\"text-align: right;\">\n      <th></th>\n      <th>annot</th>\n      <th>tweet</th>\n    </tr>\n  </thead>\n  <tbody>\n    <tr>\n      <th>0</th>\n      <td>(0000,neu,apl)</td>\n      <td>20 min line @apple store @short pump.</td>\n    </tr>\n    <tr>\n      <th>1</th>\n      <td>(0001,irr,msf)</td>\n      <td>Nueva tecnología convierte cualquier superfici...</td>\n    </tr>\n    <tr>\n      <th>2</th>\n      <td>(0002,neu,ggl)</td>\n      <td>Some people should not post replies in #Google...</td>\n    </tr>\n    <tr>\n      <th>3</th>\n      <td>(0003,neg,apl)</td>\n      <td>I know a few others having same issue RT @Joel...</td>\n    </tr>\n    <tr>\n      <th>4</th>\n      <td>(0004,neg,msf)</td>\n      <td>#Microsoft - We put the \"\"backwards\"\" into bac...</td>\n    </tr>\n    <tr>\n      <th>...</th>\n      <td>...</td>\n      <td>...</td>\n    </tr>\n    <tr>\n      <th>4168</th>\n      <td>(4168,neg,apl)</td>\n      <td>fuck this see you hoes @ work @WeakTwip @Munnn...</td>\n    </tr>\n    <tr>\n      <th>4169</th>\n      <td>(4169,neg,msf)</td>\n      <td>#Microsoft, #Adobe lose $13.5bn to piracy: Rep...</td>\n    </tr>\n    <tr>\n      <th>4170</th>\n      <td>(4170,neu,twt)</td>\n      <td>I tried to explain why you would do \"\"The #Twi...</td>\n    </tr>\n    <tr>\n      <th>4171</th>\n      <td>(4171,neg,apl)</td>\n      <td>Installed io5 - fine on ipad but wiped wife's ...</td>\n    </tr>\n    <tr>\n      <th>4172</th>\n      <td>(4172,neg,msf)</td>\n      <td>#microsoft #careers site is giving errors for ...</td>\n    </tr>\n  </tbody>\n</table>\n<p>4173 rows × 2 columns</p>\n</div>"
     },
     "execution_count": 3,
     "metadata": {},
     "output_type": "execute_result"
    }
   ],
   "source": [
    "df_data = pd.read_fwf(\"/data/train.txt\" , index_col = False, names = ['annot', 'tweet'])\n",
    "df_data"
   ],
   "metadata": {
    "collapsed": false,
    "pycharm": {
     "name": "#%%\n"
    }
   }
  },
  {
   "cell_type": "code",
   "execution_count": null,
   "outputs": [],
   "source": [
    "df_data\n"
   ],
   "metadata": {
    "collapsed": false,
    "pycharm": {
     "name": "#%%\n"
    }
   }
  }
 ],
 "metadata": {
  "kernelspec": {
   "display_name": "Python 3",
   "language": "python",
   "name": "python3"
  },
  "language_info": {
   "codemirror_mode": {
    "name": "ipython",
    "version": 2
   },
   "file_extension": ".py",
   "mimetype": "text/x-python",
   "name": "python",
   "nbconvert_exporter": "python",
   "pygments_lexer": "ipython2",
   "version": "2.7.6"
  }
 },
 "nbformat": 4,
 "nbformat_minor": 0
}