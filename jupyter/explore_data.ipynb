{
 "cells": [
  {
   "cell_type": "code",
   "execution_count": 18,
   "metadata": {
    "collapsed": true
   },
   "outputs": [
    {
     "name": "stdout",
     "output_type": "stream",
     "text": [
      "The autoreload extension is already loaded. To reload it, use:\n",
      "  %reload_ext autoreload\n"
     ]
    }
   ],
   "source": [
    "%load_ext autoreload\n",
    "%autoreload 2\n",
    "\n",
    "import pandas as pd\n",
    "import my_lib\n"
   ]
  },
  {
   "cell_type": "code",
   "execution_count": 19,
   "outputs": [
    {
     "data": {
      "text/plain": "                                                  tweet label enterprise\n0                 20 min line @apple store @short pump.   neu        apl\n1     Nueva tecnología convierte cualquier superfici...   irr        msf\n2     Some people should not post replies in #Google...   neu        ggl\n3     I know a few others having same issue RT @Joel...   neg        apl\n4     #Microsoft - We put the \"\"backwards\"\" into bac...   neg        msf\n...                                                 ...   ...        ...\n4168  fuck this see you hoes @ work @WeakTwip @Munnn...   neg        apl\n4169  #Microsoft, #Adobe lose $13.5bn to piracy: Rep...   neg        msf\n4170  I tried to explain why you would do \"\"The #Twi...   neu        twt\n4171  Installed io5 - fine on ipad but wiped wife's ...   neg        apl\n4172  #microsoft #careers site is giving errors for ...   neg        msf\n\n[4173 rows x 3 columns]",
      "text/html": "<div>\n<style scoped>\n    .dataframe tbody tr th:only-of-type {\n        vertical-align: middle;\n    }\n\n    .dataframe tbody tr th {\n        vertical-align: top;\n    }\n\n    .dataframe thead th {\n        text-align: right;\n    }\n</style>\n<table border=\"1\" class=\"dataframe\">\n  <thead>\n    <tr style=\"text-align: right;\">\n      <th></th>\n      <th>tweet</th>\n      <th>label</th>\n      <th>enterprise</th>\n    </tr>\n  </thead>\n  <tbody>\n    <tr>\n      <th>0</th>\n      <td>20 min line @apple store @short pump.</td>\n      <td>neu</td>\n      <td>apl</td>\n    </tr>\n    <tr>\n      <th>1</th>\n      <td>Nueva tecnología convierte cualquier superfici...</td>\n      <td>irr</td>\n      <td>msf</td>\n    </tr>\n    <tr>\n      <th>2</th>\n      <td>Some people should not post replies in #Google...</td>\n      <td>neu</td>\n      <td>ggl</td>\n    </tr>\n    <tr>\n      <th>3</th>\n      <td>I know a few others having same issue RT @Joel...</td>\n      <td>neg</td>\n      <td>apl</td>\n    </tr>\n    <tr>\n      <th>4</th>\n      <td>#Microsoft - We put the \"\"backwards\"\" into bac...</td>\n      <td>neg</td>\n      <td>msf</td>\n    </tr>\n    <tr>\n      <th>...</th>\n      <td>...</td>\n      <td>...</td>\n      <td>...</td>\n    </tr>\n    <tr>\n      <th>4168</th>\n      <td>fuck this see you hoes @ work @WeakTwip @Munnn...</td>\n      <td>neg</td>\n      <td>apl</td>\n    </tr>\n    <tr>\n      <th>4169</th>\n      <td>#Microsoft, #Adobe lose $13.5bn to piracy: Rep...</td>\n      <td>neg</td>\n      <td>msf</td>\n    </tr>\n    <tr>\n      <th>4170</th>\n      <td>I tried to explain why you would do \"\"The #Twi...</td>\n      <td>neu</td>\n      <td>twt</td>\n    </tr>\n    <tr>\n      <th>4171</th>\n      <td>Installed io5 - fine on ipad but wiped wife's ...</td>\n      <td>neg</td>\n      <td>apl</td>\n    </tr>\n    <tr>\n      <th>4172</th>\n      <td>#microsoft #careers site is giving errors for ...</td>\n      <td>neg</td>\n      <td>msf</td>\n    </tr>\n  </tbody>\n</table>\n<p>4173 rows × 3 columns</p>\n</div>"
     },
     "execution_count": 19,
     "metadata": {},
     "output_type": "execute_result"
    }
   ],
   "source": [
    "df_data = pd.read_fwf(\"/data/train.txt\" , index_col = False, names = ['annot', 'tweet'])\n",
    "\n",
    "df_data[\"label\"] = df_data.apply(lambda row: row[\"annot\"].split(\",\")[1], axis=\"columns\")\n",
    "df_data[\"enterprise\"] = df_data.apply(lambda row: row[\"annot\"].split(\",\")[2][:-1], axis=\"columns\")\n",
    "df_data.drop(\"annot\", axis=\"columns\", inplace=True)\n",
    "df_data"
   ],
   "metadata": {
    "collapsed": false,
    "pycharm": {
     "name": "#%%\n"
    }
   }
  },
  {
   "cell_type": "code",
   "execution_count": 20,
   "outputs": [
    {
     "name": "stdout",
     "output_type": "stream",
     "text": [
      "['neu' 'irr' 'neg' 'pos']\n",
      "['apl' 'msf' 'ggl' 'twt']\n"
     ]
    }
   ],
   "source": [
    "print(df_data[\"label\"].unique())\n",
    "print(df_data[\"enterprise\"].unique())"
   ],
   "metadata": {
    "collapsed": false,
    "pycharm": {
     "name": "#%%\n"
    }
   }
  },
  {
   "cell_type": "code",
   "execution_count": 21,
   "outputs": [
    {
     "data": {
      "text/plain": "                                                  tweet label enterprise\n0                 20 min line @apple store @short pump.     1          0\n1     Nueva tecnología convierte cualquier superfici...     3          1\n2     Some people should not post replies in #Google...     1          2\n3     I know a few others having same issue RT @Joel...     2          0\n4     #Microsoft - We put the \"\"backwards\"\" into bac...     2          1\n...                                                 ...   ...        ...\n4168  fuck this see you hoes @ work @WeakTwip @Munnn...     2          0\n4169  #Microsoft, #Adobe lose $13.5bn to piracy: Rep...     2          1\n4170  I tried to explain why you would do \"\"The #Twi...     1          3\n4171  Installed io5 - fine on ipad but wiped wife's ...     2          0\n4172  #microsoft #careers site is giving errors for ...     2          1\n\n[4173 rows x 3 columns]",
      "text/html": "<div>\n<style scoped>\n    .dataframe tbody tr th:only-of-type {\n        vertical-align: middle;\n    }\n\n    .dataframe tbody tr th {\n        vertical-align: top;\n    }\n\n    .dataframe thead th {\n        text-align: right;\n    }\n</style>\n<table border=\"1\" class=\"dataframe\">\n  <thead>\n    <tr style=\"text-align: right;\">\n      <th></th>\n      <th>tweet</th>\n      <th>label</th>\n      <th>enterprise</th>\n    </tr>\n  </thead>\n  <tbody>\n    <tr>\n      <th>0</th>\n      <td>20 min line @apple store @short pump.</td>\n      <td>1</td>\n      <td>0</td>\n    </tr>\n    <tr>\n      <th>1</th>\n      <td>Nueva tecnología convierte cualquier superfici...</td>\n      <td>3</td>\n      <td>1</td>\n    </tr>\n    <tr>\n      <th>2</th>\n      <td>Some people should not post replies in #Google...</td>\n      <td>1</td>\n      <td>2</td>\n    </tr>\n    <tr>\n      <th>3</th>\n      <td>I know a few others having same issue RT @Joel...</td>\n      <td>2</td>\n      <td>0</td>\n    </tr>\n    <tr>\n      <th>4</th>\n      <td>#Microsoft - We put the \"\"backwards\"\" into bac...</td>\n      <td>2</td>\n      <td>1</td>\n    </tr>\n    <tr>\n      <th>...</th>\n      <td>...</td>\n      <td>...</td>\n      <td>...</td>\n    </tr>\n    <tr>\n      <th>4168</th>\n      <td>fuck this see you hoes @ work @WeakTwip @Munnn...</td>\n      <td>2</td>\n      <td>0</td>\n    </tr>\n    <tr>\n      <th>4169</th>\n      <td>#Microsoft, #Adobe lose $13.5bn to piracy: Rep...</td>\n      <td>2</td>\n      <td>1</td>\n    </tr>\n    <tr>\n      <th>4170</th>\n      <td>I tried to explain why you would do \"\"The #Twi...</td>\n      <td>1</td>\n      <td>3</td>\n    </tr>\n    <tr>\n      <th>4171</th>\n      <td>Installed io5 - fine on ipad but wiped wife's ...</td>\n      <td>2</td>\n      <td>0</td>\n    </tr>\n    <tr>\n      <th>4172</th>\n      <td>#microsoft #careers site is giving errors for ...</td>\n      <td>2</td>\n      <td>1</td>\n    </tr>\n  </tbody>\n</table>\n<p>4173 rows × 3 columns</p>\n</div>"
     },
     "execution_count": 21,
     "metadata": {},
     "output_type": "execute_result"
    }
   ],
   "source": [
    "le = my_lib.LabelEncoder()\n",
    "df_data[\"label\"] = le.encode(df_data[\"label\"], \"label\")\n",
    "df_data[\"enterprise\"] = le.encode(df_data[\"enterprise\"], \"enterprise\")\n",
    "df_data"
   ],
   "metadata": {
    "collapsed": false,
    "pycharm": {
     "name": "#%%\n"
    }
   }
  },
  {
   "cell_type": "code",
   "execution_count": 14,
   "outputs": [],
   "source": [],
   "metadata": {
    "collapsed": false,
    "pycharm": {
     "name": "#%%\n"
    }
   }
  },
  {
   "cell_type": "code",
   "execution_count": 25,
   "outputs": [
    {
     "data": {
      "text/plain": "128102"
     },
     "execution_count": 25,
     "metadata": {},
     "output_type": "execute_result"
    }
   ],
   "source": [
    "ord(df_data.loc[1281, \"tweet\"][0])"
   ],
   "metadata": {
    "collapsed": false,
    "pycharm": {
     "name": "#%%\n"
    }
   }
  },
  {
   "cell_type": "code",
   "execution_count": 26,
   "outputs": [
    {
     "name": "stdout",
     "output_type": "stream",
     "text": [
      ":happy\n"
     ]
    }
   ],
   "source": [
    "print(\":happy\")\n"
   ],
   "metadata": {
    "collapsed": false,
    "pycharm": {
     "name": "#%%\n"
    }
   }
  },
  {
   "cell_type": "code",
   "execution_count": null,
   "outputs": [],
   "source": [],
   "metadata": {
    "collapsed": false,
    "pycharm": {
     "name": "#%%\n"
    }
   }
  }
 ],
 "metadata": {
  "kernelspec": {
   "display_name": "Python 3",
   "language": "python",
   "name": "python3"
  },
  "language_info": {
   "codemirror_mode": {
    "name": "ipython",
    "version": 2
   },
   "file_extension": ".py",
   "mimetype": "text/x-python",
   "name": "python",
   "nbconvert_exporter": "python",
   "pygments_lexer": "ipython2",
   "version": "2.7.6"
  }
 },
 "nbformat": 4,
 "nbformat_minor": 0
}